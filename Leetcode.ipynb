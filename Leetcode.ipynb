{
 "cells": [
  {
   "cell_type": "markdown",
   "metadata": {},
   "source": [
    "# Leetcode"
   ]
  },
  {
   "cell_type": "code",
   "execution_count": 3,
   "metadata": {},
   "outputs": [],
   "source": [
    "class Solution:\n",
    "    def moveZeroes(nums):\n",
    "        \"\"\"\n",
    "        Do not return anything, modify nums in-place instead.\n",
    "        \"\"\"\n",
    "        for x in nums:\n",
    "            if x==0:\n",
    "                nums.remove(x)\n",
    "                nums.append(0)\n",
    "        return nums\n",
    "            "
   ]
  },
  {
   "cell_type": "code",
   "execution_count": 15,
   "metadata": {},
   "outputs": [],
   "source": [
    "class Solution:\n",
    "    def maxProfit(self,prices):\n",
    "        left = 0 #Buy\n",
    "        right = 1 #Sell\n",
    "        max_profit = 0\n",
    "        while right < len(prices):\n",
    "            currentProfit = prices[right] - prices[left] #our current Profit\n",
    "            if prices[left] < prices[right]:\n",
    "                max_profit =max(currentProfit,max_profit)\n",
    "            else:\n",
    "                left = right\n",
    "            right += 1\n",
    "        return max_profit"
   ]
  },
  {
   "cell_type": "code",
   "execution_count": 18,
   "metadata": {},
   "outputs": [],
   "source": [
    "def maxProfit(prices): #best time to buy and sell stocks\n",
    "#     set two counters\n",
    "    left = 0\n",
    "    right = 1\n",
    "    max_profit=0\n",
    "    while right < len(prices):\n",
    "        profit=prices[right] - prices[left]\n",
    "        if prices[right]>prices[left]:\n",
    "            #we always need the left value to be smaller\n",
    "            max_profit = max(profit,max_profit)\n",
    "        else:\n",
    "            left=right\n",
    "        right+=1\n",
    "    return max_profit\n",
    "            "
   ]
  },
  {
   "cell_type": "markdown",
   "metadata": {},
   "source": [
    "### Kadane Algorithm"
   ]
  },
  {
   "cell_type": "code",
   "execution_count": 7,
   "metadata": {},
   "outputs": [],
   "source": [
    "\n",
    "    def maxSubArray(nums):\n",
    "        max_element = nums[0]\n",
    "        curr_element = nums[0]\n",
    "        for i in range(1,len(nums)):\n",
    "            curr_element = max(nums[i],curr_element+nums[i])\n",
    "            max_element = max(max_element,curr_element)\n",
    "        return max_element"
   ]
  },
  {
   "cell_type": "code",
   "execution_count": 8,
   "metadata": {},
   "outputs": [
    {
     "data": {
      "text/plain": [
       "7"
      ]
     },
     "execution_count": 8,
     "metadata": {},
     "output_type": "execute_result"
    }
   ],
   "source": [
    "maxSubArray([-2,-3,4,-1,-2,1,5,-3])"
   ]
  },
  {
   "cell_type": "code",
   "execution_count": 10,
   "metadata": {},
   "outputs": [],
   "source": [
    "def kadane(nums):\n",
    "    sum=0\n",
    "    maxi = nums[0]\n",
    "    \n",
    "    for i in range(0,len(nums)):\n",
    "        \n",
    "        sum += nums[i]\n",
    "        maxi = max(sum,maxi)\n",
    "        if sum < 0:\n",
    "            sum=0\n",
    "    return maxi"
   ]
  },
  {
   "cell_type": "code",
   "execution_count": 11,
   "metadata": {},
   "outputs": [
    {
     "data": {
      "text/plain": [
       "23"
      ]
     },
     "execution_count": 11,
     "metadata": {},
     "output_type": "execute_result"
    }
   ],
   "source": [
    "kadane([5,4,-1,7,8])"
   ]
  },
  {
   "cell_type": "markdown",
   "metadata": {},
   "source": [
    "#### Search Insert Position"
   ]
  },
  {
   "cell_type": "code",
   "execution_count": 1,
   "metadata": {},
   "outputs": [],
   "source": [
    "def searchInsert(nums,target):\n",
    "    for i in range (0,len(nums)):\n",
    "        if nums[i] == target:\n",
    "            return (i)\n",
    "#     for i in range (0,len(nums)):\n",
    "        elif nums[i]+1 == target:\n",
    "            return (i+1)\n",
    "        elif nums[i]-1 == target:\n",
    "            return (i)\n",
    "# wrong approach \n",
    "# I have to assume immediate next sorted number could be missing in the array too\n",
    "            1,3,4,6    0"
   ]
  },
  {
   "cell_type": "code",
   "execution_count": 6,
   "metadata": {},
   "outputs": [],
   "source": [
    "def searchInsert(nums,target):\n",
    "    if nums[0] > target:\n",
    "        return (0)\n",
    "    elif nums[-1] < target:\n",
    "        return (len(nums)-1)\n",
    "    for i in range(0,len(nums)):\n",
    "        if nums[i] == target:\n",
    "            return (i)\n",
    "        elif (nums[i] < target) and (nums[i+1] > target):\n",
    "            return (i+1)\n",
    "#worked"
   ]
  },
  {
   "cell_type": "code",
   "execution_count": 8,
   "metadata": {},
   "outputs": [
    {
     "data": {
      "text/plain": [
       "3"
      ]
     },
     "execution_count": 8,
     "metadata": {},
     "output_type": "execute_result"
    }
   ],
   "source": [
    "searchInsert([1,3,5,6],5)"
   ]
  },
  {
   "cell_type": "code",
   "execution_count": 1,
   "metadata": {},
   "outputs": [],
   "source": [
    "def test(nums,target):\n",
    "    for i in range (0,len(nums)):\n",
    "        if nums[i] == target:\n",
    "            return (i)\n",
    "        elif nums[i] > target :\n",
    "            return (i)\n",
    "    return len(nums)\n",
    "    \n",
    "    #best solution\n",
    "    "
   ]
  },
  {
   "cell_type": "markdown",
   "metadata": {},
   "source": [
    "## Reverse A linked list"
   ]
  },
  {
   "cell_type": "code",
   "execution_count": 2,
   "metadata": {},
   "outputs": [],
   "source": [
    "def reverseList(head):\n",
    "    \n",
    "    current = head\n",
    "    nextnode=None\n",
    "    previous=None\n",
    "    \n",
    "    while current:\n",
    "        nextnode = current.next \n",
    "        \n",
    "        current.next = previous\n",
    "        \n",
    "        previous=current\n",
    "        current=nextnode\n",
    "    \n",
    "    return previous\n",
    "    "
   ]
  },
  {
   "cell_type": "code",
   "execution_count": 9,
   "metadata": {},
   "outputs": [],
   "source": [
    "#Palindrome linked list\n",
    "\n",
    "    def isPalindrome(head):\n",
    "        lst = []\n",
    "        while head:\n",
    "            lst.append(head.val)\n",
    "            head.next\n",
    "#         rev = lst\n",
    "       \n",
    "#         length = len(rev)\n",
    "#         for i in range (length/2):\n",
    "#             num = lst[i]\n",
    "#             lst[i] = lst[length-i-1]\n",
    "#             lst[length-i-1] = num\n",
    "        return (lst==lst[::-1])\n",
    "        "
   ]
  },
  {
   "cell_type": "code",
   "execution_count": 1,
   "metadata": {},
   "outputs": [],
   "source": [
    "def isPalindrome(x):\n",
    "    \n",
    "    temp = x\n",
    "    rev = 0\n",
    "    while x>0:\n",
    "        y = x%10\n",
    "        rev = rev*10 + y\n",
    "        x=x/10\n",
    "        print(x)\n",
    "    return(temp==rev)"
   ]
  },
  {
   "cell_type": "code",
   "execution_count": 2,
   "metadata": {},
   "outputs": [
    {
     "data": {
      "text/plain": [
       "False"
      ]
     },
     "execution_count": 2,
     "metadata": {},
     "output_type": "execute_result"
    }
   ],
   "source": [
    "isPalindrome(121)"
   ]
  },
  {
   "cell_type": "code",
   "execution_count": 1,
   "metadata": {},
   "outputs": [],
   "source": [
    "#Better linked list palindrome\n",
    "\n",
    "def isPalindrome(head):\n",
    "    slow,fast = head\n",
    "    prev = None\n",
    "    nextnode = None\n",
    "    \n",
    "    while fast and fast.next: #why is fast required here ?\n",
    "        slow.next\n",
    "        fast.next.next\n",
    "        \n",
    "    while slow: #why slow != null req? because it'll be null after every node is reversed\n",
    "        \n",
    "        nextnode = slow.next\n",
    "        slow.next=prev\n",
    "        prev=current\n",
    "        current=nextnode\n",
    "        \n",
    "    while head and prev:\n",
    "        if head.val != prev.val:\n",
    "            return False\n",
    "        else:\n",
    "            head.next\n",
    "            slow.next\n",
    "    return True"
   ]
  },
  {
   "cell_type": "code",
   "execution_count": 3,
   "metadata": {},
   "outputs": [],
   "source": [
    "# Definition for singly-linked list.\n",
    "class ListNode:\n",
    "    def __init__(self, x):\n",
    "        self.val = x\n",
    "        self.next = None\n",
    "\n",
    "class Solution:\n",
    "    def hasCycle(head):\n",
    "        \n",
    "        marker1 = head\n",
    "        marker2 = head\n",
    "        while head and head.next:\n",
    "            marker1.next\n",
    "            marker2.next.next\n",
    "            \n",
    "            if marker1 == marker2:\n",
    "                return True\n",
    "        return False\n",
    "    "
   ]
  },
  {
   "cell_type": "markdown",
   "metadata": {},
   "source": [
    "### 142 "
   ]
  },
  {
   "cell_type": "code",
   "execution_count": 1,
   "metadata": {},
   "outputs": [],
   "source": [
    "def solution(head):\n",
    "    fast = slow = head\n",
    "    while fast and fast.next:\n",
    "        slow=slow.next\n",
    "        fast=fast.next.next\n",
    "        \n",
    "        if fast == slow:\n",
    "            break\n",
    "            \n",
    "    if fast != slow:\n",
    "        print(\"no cycle\")\n",
    "            \n",
    "    while fast!= head:\n",
    "        head=head.next\n",
    "        fast=fast.next\n",
    "    \n",
    "    print(\"tail connects to node index \"+ str(head))"
   ]
  },
  {
   "cell_type": "markdown",
   "metadata": {},
   "source": [
    "### 39"
   ]
  },
  {
   "cell_type": "code",
   "execution_count": null,
   "metadata": {},
   "outputs": [],
   "source": [
    "#combination of sum array\n",
    "def solution(arr,target):\n",
    "    \n",
    "    for num in arr:\n",
    "        if arr\n",
    "    \n",
    "    "
   ]
  }
 ],
 "metadata": {
  "kernelspec": {
   "display_name": "Python 3",
   "language": "python",
   "name": "python3"
  },
  "language_info": {
   "codemirror_mode": {
    "name": "ipython",
    "version": 3
   },
   "file_extension": ".py",
   "mimetype": "text/x-python",
   "name": "python",
   "nbconvert_exporter": "python",
   "pygments_lexer": "ipython3",
   "version": "3.8.3"
  }
 },
 "nbformat": 4,
 "nbformat_minor": 4
}
